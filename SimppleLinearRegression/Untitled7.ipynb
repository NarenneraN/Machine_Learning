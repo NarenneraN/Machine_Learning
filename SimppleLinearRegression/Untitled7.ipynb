{
  "nbformat": 4,
  "nbformat_minor": 0,
  "metadata": {
    "colab": {
      "name": "Untitled7.ipynb",
      "provenance": [],
      "collapsed_sections": []
    },
    "kernelspec": {
      "name": "python3",
      "display_name": "Python 3"
    },
    "language_info": {
      "name": "python"
    }
  },
  "cells": [
    {
      "cell_type": "code",
      "execution_count": 16,
      "metadata": {
        "id": "Wa75ZbK0h1lc"
      },
      "outputs": [],
      "source": [
        ""
      ]
    },
    {
      "cell_type": "markdown",
      "source": [
        "**01. Data Preprocessing**"
      ],
      "metadata": {
        "id": "QFLydCoSh-Mo"
      }
    },
    {
      "cell_type": "markdown",
      "source": [
        "1.1. Importing Libraries\n",
        "\n"
      ],
      "metadata": {
        "id": "KNgXQnlIiHzw"
      }
    },
    {
      "cell_type": "code",
      "source": [
        "import numpy as np\n",
        "import matplotlib.pyplot as plt\n",
        "import pandas as pd"
      ],
      "metadata": {
        "id": "gY3JoukjiKw4"
      },
      "execution_count": 28,
      "outputs": []
    },
    {
      "cell_type": "markdown",
      "source": [
        "1.2. Importing dataset"
      ],
      "metadata": {
        "id": "t2xm2_q0iR_h"
      }
    },
    {
      "cell_type": "code",
      "source": [
        "dataset = pd.read_csv('Salary_Data.csv')\n",
        "# Independent Variables\n",
        "x = dataset.iloc[:,:-1].values\n",
        "#Dependent Variables\n",
        "y = dataset.iloc[:,-1].values"
      ],
      "metadata": {
        "id": "0OtRgRdGiUsD"
      },
      "execution_count": 29,
      "outputs": []
    },
    {
      "cell_type": "markdown",
      "source": [
        ""
      ],
      "metadata": {
        "id": "XM0uMsF8h9uj"
      }
    },
    {
      "cell_type": "markdown",
      "source": [
        "1.3. Taking care of missing data"
      ],
      "metadata": {
        "id": "9aEfxQLjtW6w"
      }
    },
    {
      "cell_type": "code",
      "source": [
        "from sklearn.impute import SimpleImputer\n",
        "imputer = SimpleImputer(missing_values=np.nan,strategy='mean')\n",
        "imputer.fit(x[:,0:1])\n",
        "x[:,0:1] = imputer.transform(x[:,0:1])\n",
        "print(x)"
      ],
      "metadata": {
        "colab": {
          "base_uri": "https://localhost:8080/"
        },
        "id": "ImOJYY4ztaRV",
        "outputId": "f9fcbe22-be4a-48da-b43e-568062088000"
      },
      "execution_count": 27,
      "outputs": [
        {
          "output_type": "stream",
          "name": "stdout",
          "text": [
            "[[ 1.1]\n",
            " [ 1.3]\n",
            " [ 1.5]\n",
            " [ 2. ]\n",
            " [ 2.2]\n",
            " [ 2.9]\n",
            " [ 3. ]\n",
            " [ 3.2]\n",
            " [ 3.2]\n",
            " [ 3.7]\n",
            " [ 3.9]\n",
            " [ 4. ]\n",
            " [ 4. ]\n",
            " [ 4.1]\n",
            " [ 4.5]\n",
            " [ 4.9]\n",
            " [ 5.1]\n",
            " [ 5.3]\n",
            " [ 5.9]\n",
            " [ 6. ]\n",
            " [ 6.8]\n",
            " [ 7.1]\n",
            " [ 7.9]\n",
            " [ 8.2]\n",
            " [ 8.7]\n",
            " [ 9. ]\n",
            " [ 9.5]\n",
            " [ 9.6]\n",
            " [10.3]\n",
            " [10.5]]\n"
          ]
        }
      ]
    },
    {
      "cell_type": "markdown",
      "source": [
        "1.4 Encoding the categorical data"
      ],
      "metadata": {
        "id": "dSxQrTU8uo6p"
      }
    },
    {
      "cell_type": "markdown",
      "source": [
        "We need to do these to convert our srings to numerical values so that our machine cam work upon"
      ],
      "metadata": {
        "id": "UJLYBoFQuxoD"
      }
    },
    {
      "cell_type": "code",
      "source": [
        "from sklearn.compose import ColumnTransformer\n",
        "from sklearn.preprocessing import OneHotEncoder\n",
        "ct = ColumnTransformer(transformers=[('encoder',OneHotEncoder(),[0])],remainder='passthrough')\n",
        "x=np.array(ct.fit_transform(x))\n",
        "print(x)"
      ],
      "metadata": {
        "colab": {
          "base_uri": "https://localhost:8080/"
        },
        "id": "BiBD0sdnu5J0",
        "outputId": "6c5b969c-f62a-4809-eeb8-df07df0cb6e5"
      },
      "execution_count": 20,
      "outputs": [
        {
          "output_type": "stream",
          "name": "stdout",
          "text": [
            "  (0, 0)\t1.0\n",
            "  (1, 1)\t1.0\n",
            "  (2, 2)\t1.0\n",
            "  (3, 3)\t1.0\n",
            "  (4, 4)\t1.0\n",
            "  (5, 5)\t1.0\n",
            "  (6, 6)\t1.0\n",
            "  (7, 7)\t1.0\n",
            "  (8, 7)\t1.0\n",
            "  (9, 8)\t1.0\n",
            "  (10, 9)\t1.0\n",
            "  (11, 10)\t1.0\n",
            "  (12, 10)\t1.0\n",
            "  (13, 11)\t1.0\n",
            "  (14, 12)\t1.0\n",
            "  (15, 13)\t1.0\n",
            "  (16, 14)\t1.0\n",
            "  (17, 15)\t1.0\n",
            "  (18, 16)\t1.0\n",
            "  (19, 17)\t1.0\n",
            "  (20, 18)\t1.0\n",
            "  (21, 19)\t1.0\n",
            "  (22, 20)\t1.0\n",
            "  (23, 21)\t1.0\n",
            "  (24, 22)\t1.0\n",
            "  (25, 23)\t1.0\n",
            "  (26, 24)\t1.0\n",
            "  (27, 25)\t1.0\n",
            "  (28, 26)\t1.0\n",
            "  (29, 27)\t1.0\n"
          ]
        }
      ]
    },
    {
      "cell_type": "code",
      "source": [
        "from sklearn.preprocessing import LabelEncoder\n",
        "le = LabelEncoder()\n",
        "y=le.fit_transform(y)\n",
        "print(y)"
      ],
      "metadata": {
        "colab": {
          "base_uri": "https://localhost:8080/"
        },
        "id": "r8oqVqGg1fES",
        "outputId": "a042f6fb-b904-45ac-a2b4-b5ace94e7bee"
      },
      "execution_count": 21,
      "outputs": [
        {
          "output_type": "stream",
          "name": "stdout",
          "text": [
            "[ 1  4  0  3  2  7 11  5 14 10 13  6  8  9 12 16 15 18 17 20 19 21 22 26\n",
            " 24 23 27 25 29 28]\n"
          ]
        }
      ]
    },
    {
      "cell_type": "markdown",
      "source": [
        "1.5 Splitting into training set and test set"
      ],
      "metadata": {
        "id": "JPQglLOPAhV7"
      }
    },
    {
      "cell_type": "code",
      "source": [
        "from sklearn.model_selection import train_test_split\n",
        "x_train,x_test,y_train,y_test = train_test_split(x,y,test_size=0.2,random_state=0)\n"
      ],
      "metadata": {
        "id": "DZvu-5kfAlRn"
      },
      "execution_count": 51,
      "outputs": []
    },
    {
      "cell_type": "code",
      "source": [
        "print(x_train)\n",
        "print(x_test)"
      ],
      "metadata": {
        "colab": {
          "base_uri": "https://localhost:8080/"
        },
        "id": "7_m0WKppCeLX",
        "outputId": "bf87f72f-10d9-47ab-b21a-82cbeb709d9b"
      },
      "execution_count": 52,
      "outputs": [
        {
          "output_type": "stream",
          "name": "stdout",
          "text": [
            "[[ 9.6]\n",
            " [ 4. ]\n",
            " [ 5.3]\n",
            " [ 7.9]\n",
            " [ 2.9]\n",
            " [ 5.1]\n",
            " [ 3.2]\n",
            " [ 4.5]\n",
            " [ 8.2]\n",
            " [ 6.8]\n",
            " [ 1.3]\n",
            " [10.5]\n",
            " [ 3. ]\n",
            " [ 2.2]\n",
            " [ 5.9]\n",
            " [ 6. ]\n",
            " [ 3.7]\n",
            " [ 3.2]\n",
            " [ 9. ]\n",
            " [ 2. ]\n",
            " [ 1.1]\n",
            " [ 7.1]\n",
            " [ 4.9]\n",
            " [ 4. ]]\n",
            "[[ 1.5]\n",
            " [10.3]\n",
            " [ 4.1]\n",
            " [ 3.9]\n",
            " [ 9.5]\n",
            " [ 8.7]]\n"
          ]
        }
      ]
    },
    {
      "cell_type": "code",
      "source": [
        "print(y_train)\n",
        "print(y_test)"
      ],
      "metadata": {
        "colab": {
          "base_uri": "https://localhost:8080/"
        },
        "id": "Ujtxxv4JChDy",
        "outputId": "d470a1ac-3dc2-4b30-b7d5-420c1f20f0db"
      },
      "execution_count": 53,
      "outputs": [
        {
          "output_type": "stream",
          "name": "stdout",
          "text": [
            "[112635.  55794.  83088. 101302.  56642.  66029.  64445.  61111. 113812.\n",
            "  91738.  46205. 121872.  60150.  39891.  81363.  93940.  57189.  54445.\n",
            " 105582.  43525.  39343.  98273.  67938.  56957.]\n",
            "[ 37731. 122391.  57081.  63218. 116969. 109431.]\n"
          ]
        }
      ]
    },
    {
      "cell_type": "markdown",
      "source": [
        "Training Simple Linear Regression model\n"
      ],
      "metadata": {
        "id": "h1lY0wpW-Yw4"
      }
    },
    {
      "cell_type": "code",
      "source": [
        "from sklearn.linear_model import LinearRegression\n",
        "regressor = LinearRegression()\n",
        "regressor.fit(x_train,y_train)"
      ],
      "metadata": {
        "colab": {
          "base_uri": "https://localhost:8080/"
        },
        "id": "P68o-YZL-cCK",
        "outputId": "07d30f92-ab8b-45e4-c1fc-c44ef6b32496"
      },
      "execution_count": 54,
      "outputs": [
        {
          "output_type": "execute_result",
          "data": {
            "text/plain": [
              "LinearRegression()"
            ]
          },
          "metadata": {},
          "execution_count": 54
        }
      ]
    },
    {
      "cell_type": "markdown",
      "source": [
        "Predicting test results "
      ],
      "metadata": {
        "id": "ApqRIadQ_BtG"
      }
    },
    {
      "cell_type": "code",
      "source": [
        "y_test1=regressor.predict(x_test)\n",
        "print(y_test)"
      ],
      "metadata": {
        "colab": {
          "base_uri": "https://localhost:8080/"
        },
        "id": "mw9IFSXw_EbO",
        "outputId": "849a23dd-6d61-464f-a2c0-810a45b4849e"
      },
      "execution_count": 55,
      "outputs": [
        {
          "output_type": "stream",
          "name": "stdout",
          "text": [
            "[ 37731. 122391.  57081.  63218. 116969. 109431.]\n"
          ]
        }
      ]
    },
    {
      "cell_type": "markdown",
      "source": [
        "Visualizing Training results"
      ],
      "metadata": {
        "id": "K8N1_sWLBi7R"
      }
    },
    {
      "cell_type": "code",
      "source": [
        "plt.scatter(x_train,y_train,color='red')\n",
        "plt.plot(x_train,regressor.predict(x_train),color='blue')\n",
        "plt.title('NAREN')\n",
        "plt.xlabel('Years of exp')\n",
        "plt.ylabel('Salary')\n",
        "plt.show()\n",
        "plt.scatter(x_test,y_test,color='green')\n",
        "plt.plot(x_test,y_test1,color='blue')\n",
        "plt.show()\n",
        "print(y_test)\n",
        "print(y_test1)"
      ],
      "metadata": {
        "colab": {
          "base_uri": "https://localhost:8080/",
          "height": 595
        },
        "id": "OfFEiDeCBlPd",
        "outputId": "30fb01a4-0c58-4752-b783-b64d0d0e0dbc"
      },
      "execution_count": 59,
      "outputs": [
        {
          "output_type": "display_data",
          "data": {
            "text/plain": [
              "<Figure size 432x288 with 1 Axes>"
            ],
            "image/png": "[encoded data removed]"
          },
          "metadata": {
            "needs_background": "light"
          }
        },
        {
          "output_type": "display_data",
          "data": {
            "text/plain": [
              "<Figure size 432x288 with 1 Axes>"
            ],
            "image/png": "[encoded data removed]"
          },
          "metadata": {
            "needs_background": "light"
          }
        },
        {
          "output_type": "stream",
          "name": "stdout",
          "text": [
            "[ 37731. 122391.  57081.  63218. 116969. 109431.]\n",
            "[ 40748.96184072 122699.62295594  64961.65717022  63099.14214487\n",
            " 115249.56285456 107799.50275317]\n"
          ]
        }
      ]
    }
  ]
}