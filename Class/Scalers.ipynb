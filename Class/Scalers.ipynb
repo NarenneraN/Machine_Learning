{
 "cells": [
  {
   "cell_type": "code",
   "execution_count": 1,
   "id": "c8341026",
   "metadata": {},
   "outputs": [],
   "source": [
    "import numpy as np \n",
    "import pandas as pd\n",
    "import matplotlib.pyplot as plt"
   ]
  },
  {
   "cell_type": "code",
   "execution_count": 2,
   "id": "6a7bbad0",
   "metadata": {},
   "outputs": [],
   "source": [
    "from sklearn import preprocessing "
   ]
  },
  {
   "cell_type": "code",
   "execution_count": 29,
   "id": "650b38fb",
   "metadata": {},
   "outputs": [
    {
     "data": {
      "text/plain": [
       "array([[-500.5],\n",
       "       [-100.1],\n",
       "       [   0. ],\n",
       "       [ 100.1],\n",
       "       [ 900.9]])"
      ]
     },
     "execution_count": 29,
     "metadata": {},
     "output_type": "execute_result"
    }
   ],
   "source": [
    "feature=np.array([[-500.5],[-100.1],[0],[100.1],[900.9]])\n",
    "feature"
   ]
  },
  {
   "cell_type": "markdown",
   "id": "950d7460",
   "metadata": {},
   "source": [
    "## Normalization"
   ]
  },
  {
   "cell_type": "markdown",
   "id": "26f904e0",
   "metadata": {},
   "source": [
    " Normalization scales each input variable separately to the range 0-1, which is the range for floating-point values where \n",
    "we have the most precision."
   ]
  },
  {
   "cell_type": "code",
   "execution_count": 6,
   "id": "f95cdefa",
   "metadata": {},
   "outputs": [
    {
     "data": {
      "text/plain": [
       "array([[0.        ],\n",
       "       [0.28571429],\n",
       "       [0.35714286],\n",
       "       [0.42857143],\n",
       "       [1.        ]])"
      ]
     },
     "execution_count": 6,
     "metadata": {},
     "output_type": "execute_result"
    }
   ],
   "source": [
    "scaler=preprocessing.MinMaxScaler(feature_range=(0,1))\n",
    "scaled_df=scaler.fit_transform(feature)\n",
    "scaled_df"
   ]
  },
  {
   "cell_type": "markdown",
   "id": "21cf88ce",
   "metadata": {},
   "source": [
    "Subplot"
   ]
  },
  {
   "cell_type": "code",
   "execution_count": 11,
   "id": "bac3c1ce",
   "metadata": {},
   "outputs": [
    {
     "data": {
      "image/png": "[encoded data removed]",
      "text/plain": [
       "<Figure size 432x288 with 2 Axes>"
      ]
     },
     "metadata": {
      "needs_background": "light"
     },
     "output_type": "display_data"
    }
   ],
   "source": [
    "plt.subplot(1,2,1)\n",
    "plt.plot(feature,color='red')\n",
    "plt.subplot(1,2,2)\n",
    "plt.plot(scaled_df,color='blue')\n",
    "plt.show()\n",
    "# Shape of the graph Didn't change but it just scaled our feature b/w 0 to 1"
   ]
  },
  {
   "cell_type": "code",
   "execution_count": 14,
   "id": "e662c9f7",
   "metadata": {},
   "outputs": [
    {
     "data": {
      "text/plain": [
       "array([[-1.26687088],\n",
       "       [-0.39316683],\n",
       "       [-0.17474081],\n",
       "       [ 0.0436852 ],\n",
       "       [ 1.79109332]])"
      ]
     },
     "execution_count": 14,
     "metadata": {},
     "output_type": "execute_result"
    }
   ],
   "source": [
    "scaler=preprocessing.StandardScaler()\n",
    "scaled_df=scaler.fit_transform(feature)\n",
    "scaled_df"
   ]
  },
  {
   "cell_type": "code",
   "execution_count": 18,
   "id": "c050afee",
   "metadata": {},
   "outputs": [],
   "source": [
    "scaled_mean=scaled_df.mean()\n",
    "raw_mean=feature.mean()\n",
    "scaled_std=scaled_df.std()\n",
    "raw_std=feature.std()"
   ]
  },
  {
   "cell_type": "code",
   "execution_count": 24,
   "id": "64f793e4",
   "metadata": {},
   "outputs": [
    {
     "data": {
      "text/plain": [
       "80.08"
      ]
     },
     "execution_count": 24,
     "metadata": {},
     "output_type": "execute_result"
    }
   ],
   "source": [
    "raw_mean"
   ]
  },
  {
   "cell_type": "code",
   "execution_count": 25,
   "id": "f6f175b2",
   "metadata": {},
   "outputs": [
    {
     "data": {
      "text/plain": [
       "0.0"
      ]
     },
     "execution_count": 25,
     "metadata": {},
     "output_type": "execute_result"
    }
   ],
   "source": [
    "scaled_mean"
   ]
  },
  {
   "cell_type": "code",
   "execution_count": 26,
   "id": "f7bd31c6",
   "metadata": {},
   "outputs": [
    {
     "data": {
      "text/plain": [
       "458.2787466160743"
      ]
     },
     "execution_count": 26,
     "metadata": {},
     "output_type": "execute_result"
    }
   ],
   "source": [
    "raw_std"
   ]
  },
  {
   "cell_type": "code",
   "execution_count": 27,
   "id": "dcf8abd7",
   "metadata": {},
   "outputs": [
    {
     "data": {
      "text/plain": [
       "1.0"
      ]
     },
     "execution_count": 27,
     "metadata": {},
     "output_type": "execute_result"
    }
   ],
   "source": [
    "scaled_std"
   ]
  },
  {
   "cell_type": "code",
   "execution_count": 22,
   "id": "7007294d",
   "metadata": {},
   "outputs": [
    {
     "data": {
      "image/png": "[encoded data removed]",
      "text/plain": [
       "<Figure size 432x288 with 2 Axes>"
      ]
     },
     "metadata": {
      "needs_background": "light"
     },
     "output_type": "display_data"
    }
   ],
   "source": [
    "plt.subplot(1,2,1)\n",
    "plt.plot(feature,color='red')\n",
    "plt.subplot(1,2,2)\n",
    "plt.plot(scaled_df,color='blue')\n",
    "plt.show()"
   ]
  },
  {
   "cell_type": "markdown",
   "id": "a405f624",
   "metadata": {},
   "source": [
    "### Robust Scaler"
   ]
  },
  {
   "cell_type": "markdown",
   "id": "cc02a601",
   "metadata": {},
   "source": [
    "It scales features using statistics that are robust to outliers. This method removes the median and scales the data in the range between 1st quartile and 3rd quartile. i.e., in between 25th quantile and 75th quantile range. This range is also called an Interquartile range. \n",
    "The median and the interquartile range are then stored so that it could be used upon future data using the transform method. If outliers are present in the dataset, then the median and the interquartile range provide better results and outperform the sample mean and variance. \n",
    "RobustScaler uses the interquartile range so that it is robust to outliers."
   ]
  },
  {
   "cell_type": "code",
   "execution_count": 30,
   "id": "5d75107d",
   "metadata": {},
   "outputs": [
    {
     "name": "stdout",
     "output_type": "stream",
     "text": [
      "[[-500.5]\n",
      " [-100.1]\n",
      " [   0. ]\n",
      " [ 100.1]\n",
      " [ 900.9]]\n",
      "[[-500.5]\n",
      " [-100.1]\n",
      " [   0. ]\n",
      " [ 100.1]\n",
      " [ 900.9]]\n",
      "[[-500.5]\n",
      " [-100.1]\n",
      " [   0. ]\n",
      " [ 100.1]\n",
      " [ 900.9]]\n"
     ]
    }
   ],
   "source": [
    "print(feature)\n",
    "normalizer=preprocessing.Normalizer(norm='l2')\n",
    "normalizer.transform(feature)\n",
    "print(feature)\n",
    "robust_scaler=preprocessing.RobustScaler()\n",
    "robust_scaler.fit_transform(feature)\n",
    "print(feature)"
   ]
  }
 ],
 "metadata": {
  "kernelspec": {
   "display_name": "Python 3 (ipykernel)",
   "language": "python",
   "name": "python3"
  },
  "language_info": {
   "codemirror_mode": {
    "name": "ipython",
    "version": 3
   },
   "file_extension": ".py",
   "mimetype": "text/x-python",
   "name": "python",
   "nbconvert_exporter": "python",
   "pygments_lexer": "ipython3",
   "version": "3.9.7"
  }
 },
 "nbformat": 4,
 "nbformat_minor": 5
}
